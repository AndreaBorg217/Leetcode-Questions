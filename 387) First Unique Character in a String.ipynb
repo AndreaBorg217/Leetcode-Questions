{
 "cells": [
  {
   "attachments": {},
   "cell_type": "markdown",
   "metadata": {},
   "source": [
    "## Problem\n",
    "\n",
    "Given a string `s`, *find the first non-repeating character in it and return its index*. If it does not exist, return `-1`.\n",
    "\n",
    "**Example 1:**\n",
    "\n",
    "```\n",
    "Input: s = \"leetcode\"\n",
    "Output: 0\n",
    "\n",
    "```\n",
    "\n",
    "**Example 2:**\n",
    "\n",
    "```\n",
    "Input: s = \"loveleetcode\"\n",
    "Output: 2\n",
    "\n",
    "```\n",
    "\n",
    "**Example 3:**\n",
    "\n",
    "```\n",
    "Input: s = \"aabb\"\n",
    "Output: -1\n",
    "```\n",
    "\n",
    "## Solution"
   ]
  },
  {
   "cell_type": "code",
   "execution_count": null,
   "metadata": {},
   "outputs": [],
   "source": [
    "def firstUniqChar(s):\n",
    "    chars = dict()\n",
    "\n",
    "    for i in range(len(s)):\n",
    "        if s[i] in chars.keys(): chars[s[i]].append(i)\n",
    "        else: chars.update({s[i]: [i]})\n",
    "    \n",
    "    for key in chars.keys():\n",
    "        if len(chars[key]) == 1: return chars[key][0]\n",
    "    return -1"
   ]
  },
  {
   "cell_type": "code",
   "execution_count": null,
   "metadata": {},
   "outputs": [],
   "source": [
    "print(firstUniqChar(\"leetcode\"))\n",
    "print(firstUniqChar(\"loveleetcode\"))\n",
    "print(firstUniqChar(\"aabb\"))"
   ]
  }
 ],
 "metadata": {
  "kernelspec": {
   "display_name": "Python 3",
   "language": "python",
   "name": "python3"
  },
  "language_info": {
   "codemirror_mode": {
    "name": "ipython",
    "version": 3
   },
   "file_extension": ".py",
   "mimetype": "text/x-python",
   "name": "python",
   "nbconvert_exporter": "python",
   "pygments_lexer": "ipython3",
   "version": "3.10.5"
  },
  "orig_nbformat": 4,
  "vscode": {
   "interpreter": {
    "hash": "434f2bcca716b3712093bbeaf4b043651dd7dfcf409992b3771072bf00fd41a0"
   }
  }
 },
 "nbformat": 4,
 "nbformat_minor": 2
}
