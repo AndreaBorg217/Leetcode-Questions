{
 "cells": [
  {
   "attachments": {},
   "cell_type": "markdown",
   "metadata": {},
   "source": [
    "## Problem\n",
    "\n",
    "Given an integer `n`, return *a string array* `answer` *(**1-indexed**) where*:\n",
    "\n",
    "- `answer[i] == \"FizzBuzz\"` if `i` is divisible by `3` and `5`.\n",
    "- `answer[i] == \"Fizz\"` if `i` is divisible by `3`.\n",
    "- `answer[i] == \"Buzz\"` if `i` is divisible by `5`.\n",
    "- `answer[i] == i` (as a string) if none of the above conditions are true.\n",
    "\n",
    "**Example 1:**\n",
    "\n",
    "```\n",
    "Input: n = 3\n",
    "Output: [\"1\",\"2\",\"Fizz\"]\n",
    "```\n",
    "\n",
    "**Example 2:**\n",
    "\n",
    "```\n",
    "Input: n = 5\n",
    "Output: [\"1\",\"2\",\"Fizz\",\"4\",\"Buzz\"]\n",
    "```\n",
    "\n",
    "**Example 3:**\n",
    "\n",
    "```\n",
    "Input: n = 15\n",
    "Output: [\"1\",\"2\",\"Fizz\",\"4\",\"Buzz\",\"Fizz\",\"7\",\"8\",\"Fizz\",\"Buzz\",\"11\",\"Fizz\",\"13\",\"14\",\"FizzBuzz\"]\n",
    "```\n",
    "\n",
    "## Solution"
   ]
  },
  {
   "cell_type": "code",
   "execution_count": null,
   "metadata": {},
   "outputs": [],
   "source": [
    "def fizzBuzz(n):\n",
    "    answer = list()\n",
    "    for i in range(1, n+1):\n",
    "        divThree = i % 3\n",
    "        divFive = i % 5\n",
    "        if divThree == 0 and divFive == 0: \n",
    "            answer.append(\"FizzBuzz\")\n",
    "        elif divThree == 0: \n",
    "            answer.append(\"Fizz\")\n",
    "        elif divFive == 0: \n",
    "            answer.append(\"Buzz\")\n",
    "        else: answer.append(str(i))\n",
    "    return answer"
   ]
  },
  {
   "cell_type": "code",
   "execution_count": null,
   "metadata": {},
   "outputs": [],
   "source": [
    "print(fizzBuzz(3))\n",
    "print(fizzBuzz(5))\n",
    "print(fizzBuzz(15))"
   ]
  }
 ],
 "metadata": {
  "kernelspec": {
   "display_name": "Python 3",
   "language": "python",
   "name": "python3"
  },
  "language_info": {
   "name": "python",
   "version": "3.10.5"
  },
  "orig_nbformat": 4,
  "vscode": {
   "interpreter": {
    "hash": "434f2bcca716b3712093bbeaf4b043651dd7dfcf409992b3771072bf00fd41a0"
   }
  }
 },
 "nbformat": 4,
 "nbformat_minor": 2
}
