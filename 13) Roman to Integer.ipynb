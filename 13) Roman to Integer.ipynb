{
 "cells": [
  {
   "attachments": {},
   "cell_type": "markdown",
   "metadata": {},
   "source": [
    "## Problem\n",
    "\n",
    "Roman numerals are represented by seven different symbols: `I`, `V`, `X`, `L`, `C`, `D` and `M`.\n",
    "\n",
    "```\n",
    "SymbolValue\n",
    "I             1\n",
    "V             5\n",
    "X             10\n",
    "L             50\n",
    "C             100\n",
    "D             500\n",
    "M             1000\n",
    "```\n",
    "\n",
    "For example, `2` is written as `II` in Roman numeral, just two ones added together. `12` is written as `XII`, which is simply `X + II`. The number `27` is written as `XXVII`, which is `XX + V + II`.\n",
    "\n",
    "Roman numerals are usually written largest to smallest from left to right. However, the numeral for four is not `IIII`. Instead, the number four is written as `IV`. Because the one is before the five we subtract it making four. The same principle applies to the number nine, which is written as `IX`. There are six instances where subtraction is used:\n",
    "\n",
    "- `I` can be placed before `V` (5) and `X` (10) to make 4 and 9.\n",
    "- `X` can be placed before `L` (50) and `C` (100) to make 40 and 90.\n",
    "- `C` can be placed before `D` (500) and `M` (1000) to make 400 and 900.\n",
    "\n",
    "Given a roman numeral, convert it to an integer.\n",
    "\n",
    "**Example 1:**\n",
    "\n",
    "```\n",
    "Input: s = \"III\"\n",
    "Output: 3\n",
    "Explanation: III = 3.\n",
    "```\n",
    "\n",
    "**Example 2:**\n",
    "\n",
    "```\n",
    "Input: s = \"LVIII\"\n",
    "Output: 58\n",
    "Explanation: L = 50, V= 5, III = 3.\n",
    "```\n",
    "\n",
    "**Example 3:**\n",
    "\n",
    "```\n",
    "Input: s = \"MCMXCIV\"\n",
    "Output: 1994\n",
    "Explanation: M = 1000, CM = 900, XC = 90 and IV = 4.\n",
    "```\n",
    "\n",
    "## Solution"
   ]
  },
  {
   "cell_type": "code",
   "execution_count": null,
   "metadata": {},
   "outputs": [],
   "source": [
    "def romanToInt(s):\n",
    "    conv = {\n",
    "        \"I\":    1,\n",
    "        \"V\":    5,\n",
    "        \"X\":    10,\n",
    "        \"L\":    50,\n",
    "        \"C\":    100,\n",
    "        \"D\":    500,\n",
    "        \"M\":    1000\n",
    "    }\n",
    "    ans = 0\n",
    "    while(len(s) > 0):\n",
    "        if len(s) == 1:\n",
    "            ans = ans + conv.get(s)\n",
    "            s = \"\"\n",
    "        elif len(s) == 2:\n",
    "            if conv.get(s[0]) < conv.get(s[1]):\n",
    "                ans = ans + conv.get(s[1]) - conv.get(s[0])\n",
    "            else:\n",
    "                ans = ans + conv.get(s[1]) + conv.get(s[0])\n",
    "            s = \"\"\n",
    "        else:\n",
    "            if conv.get(s[0]) > conv.get(s[1]) and conv.get(s[2]) > conv.get(s[1]):\n",
    "                ans = ans + conv.get(s[0]) - conv.get(s[1]) + conv.get(s[2])\n",
    "                s = s[3::]\n",
    "            elif conv.get(s[0]) < conv.get(s[1]):\n",
    "                ans = ans + conv.get(s[1]) - conv.get(s[0])\n",
    "                s = s[2::]\n",
    "            elif conv.get(s[0]) == conv.get(s[1]):\n",
    "                ans = ans + conv.get(s[1]) + conv.get(s[0])\n",
    "                s = s[2::]\n",
    "            else:\n",
    "                ans = ans + conv.get(s[0]) + conv.get(s[1])\n",
    "                s = s[2::]\n",
    "    return ans\n"
   ]
  },
  {
   "cell_type": "code",
   "execution_count": null,
   "metadata": {},
   "outputs": [],
   "source": [
    "# TEST CASES        \n",
    "print(romanToInt(\"III\"))\n",
    "print(romanToInt(\"LVIII\"))\n",
    "print(romanToInt(\"MCMXCIV\"))"
   ]
  }
 ],
 "metadata": {
  "kernelspec": {
   "display_name": "Python 3",
   "language": "python",
   "name": "python3"
  },
  "language_info": {
   "name": "python",
   "version": "3.10.5"
  },
  "orig_nbformat": 4,
  "vscode": {
   "interpreter": {
    "hash": "434f2bcca716b3712093bbeaf4b043651dd7dfcf409992b3771072bf00fd41a0"
   }
  }
 },
 "nbformat": 4,
 "nbformat_minor": 2
}
