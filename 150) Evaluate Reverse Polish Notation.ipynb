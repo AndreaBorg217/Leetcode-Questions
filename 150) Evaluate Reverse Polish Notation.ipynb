{
 "cells": [
  {
   "cell_type": "code",
   "execution_count": 12,
   "metadata": {},
   "outputs": [],
   "source": [
    "from math import ceil\n",
    "def evalRPN(tokens):\n",
    "        stack = []\n",
    "        for symbol in tokens:\n",
    "            if symbol.replace(\"-\", \"\").isdigit(): stack.insert(0, int(symbol))\n",
    "            else:\n",
    "                if len(stack) > 1:\n",
    "                    operand1 = stack.pop(0)\n",
    "                    operand2 = stack.pop(0)\n",
    "\n",
    "                if symbol == \"+\":\n",
    "                   stack.insert(0, operand1 + operand2)\n",
    "                elif symbol == \"-\":\n",
    "                    stack.insert(0, operand2 - operand1)\n",
    "                elif symbol == \"*\":\n",
    "                    stack.insert(0, operand1 * operand2)\n",
    "                elif symbol == \"/\":\n",
    "                    stack.insert(0, operand2 / operand1)\n",
    "        return int(ceil(stack.pop()))\n"
   ]
  },
  {
   "cell_type": "code",
   "execution_count": 13,
   "metadata": {},
   "outputs": [
    {
     "name": "stdout",
     "output_type": "stream",
     "text": [
      "22\n"
     ]
    }
   ],
   "source": [
    "print(evalRPN([\"10\",\"6\",\"9\",\"3\",\"+\",\"-11\",\"*\",\"/\",\"*\",\"17\",\"+\",\"5\",\"+\"]))"
   ]
  }
 ],
 "metadata": {
  "kernelspec": {
   "display_name": "Python 3",
   "language": "python",
   "name": "python3"
  },
  "language_info": {
   "codemirror_mode": {
    "name": "ipython",
    "version": 3
   },
   "file_extension": ".py",
   "mimetype": "text/x-python",
   "name": "python",
   "nbconvert_exporter": "python",
   "pygments_lexer": "ipython3",
   "version": "3.10.0"
  },
  "orig_nbformat": 4
 },
 "nbformat": 4,
 "nbformat_minor": 2
}
