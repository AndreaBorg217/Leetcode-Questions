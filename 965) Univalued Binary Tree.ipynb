{
 "cells": [
  {
   "attachments": {},
   "cell_type": "markdown",
   "metadata": {},
   "source": [
    "## Problem\n",
    "\n",
    "A binary tree is **uni-valued** if every node in the tree has the same value.\n",
    "\n",
    "Given the `root` of a binary tree, return `true` *if the given tree is **uni-valued**, or* `false` *otherwise.*\n",
    "\n",
    "**Example 1:**\n",
    "\n",
    "![https://assets.leetcode.com/uploads/2018/12/28/unival_bst_1.png](https://assets.leetcode.com/uploads/2018/12/28/unival_bst_1.png)\n",
    "\n",
    "```\n",
    "Input: root = [1,1,1,1,1,null,1]\n",
    "Output: true\n",
    "```\n",
    "\n",
    "**Example 2:**\n",
    "\n",
    "![https://assets.leetcode.com/uploads/2018/12/28/unival_bst_2.png](https://assets.leetcode.com/uploads/2018/12/28/unival_bst_2.png)\n",
    "\n",
    "```\n",
    "Input: root = [2,2,2,5,2]\n",
    "Output: false\n",
    "```\n",
    "\n",
    "## Solution"
   ]
  },
  {
   "cell_type": "code",
   "execution_count": null,
   "metadata": {},
   "outputs": [],
   "source": [
    "def isUnivalTree(root):\n",
    "        elements = set()\n",
    "        inOrder(root, elements)\n",
    "        return len(elements) == 1\n",
    "    \n",
    "def inOrder(root, elements):\n",
    "    if root:\n",
    "        inOrder(root.left, elements)\n",
    "        elements.add(root.val)\n",
    "        inOrder(root.right, elements)"
   ]
  }
 ],
 "metadata": {
  "kernelspec": {
   "display_name": "Python 3",
   "language": "python",
   "name": "python3"
  },
  "language_info": {
   "name": "python",
   "version": "3.10.5"
  },
  "orig_nbformat": 4,
  "vscode": {
   "interpreter": {
    "hash": "434f2bcca716b3712093bbeaf4b043651dd7dfcf409992b3771072bf00fd41a0"
   }
  }
 },
 "nbformat": 4,
 "nbformat_minor": 2
}
