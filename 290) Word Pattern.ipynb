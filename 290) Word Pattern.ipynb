{
 "cells": [
  {
   "attachments": {},
   "cell_type": "markdown",
   "metadata": {},
   "source": [
    "## Problem\n",
    "\n",
    "Given a `pattern` and a string `s`, find if `s` follows the same pattern.\n",
    "\n",
    "Here **follow** means a full match, such that there is a bijection between a letter in `pattern` and a **non-empty** word in `s`.\n",
    "\n",
    "**Example 1:**\n",
    "\n",
    "```\n",
    "Input: pattern = \"abba\", s = \"dog cat cat dog\"\n",
    "Output: true\n",
    "```\n",
    "\n",
    "**Example 2:**\n",
    "\n",
    "```\n",
    "Input: pattern = \"abba\", s = \"dog cat cat fish\"\n",
    "Output: false\n",
    "```\n",
    "\n",
    "**Example 3:**\n",
    "\n",
    "```\n",
    "Input: pattern = \"aaaa\", s = \"dog cat cat dog\"\n",
    "Output: false\n",
    "```\n",
    "\n",
    "## Solution"
   ]
  },
  {
   "cell_type": "code",
   "execution_count": null,
   "metadata": {},
   "outputs": [],
   "source": [
    "def wordPattern(pattern, s):\n",
    "    s = s.split()\n",
    "    if not len(s) == len(pattern): return False\n",
    "\n",
    "    mapped = dict()\n",
    "    for i in range(len(pattern)):\n",
    "\n",
    "        # if char isn't mapped to a word and the word isn't mapped to another char\n",
    "        if pattern[i] not in mapped.keys() and s[i] not in mapped.values(): mapped.update({pattern[i]: s[i]}) # create a new mapping\n",
    "\n",
    "        # if char isn't mapped to a word but the word is mapped to another char\n",
    "        if pattern[i] not in mapped.keys() and s[i] in mapped.values(): return False\n",
    "\n",
    "        # if word doesn't match that mapped to the current character\n",
    "        elif not s[i] == mapped[pattern[i]]: return False\n",
    "\n",
    "    return True"
   ]
  },
  {
   "cell_type": "code",
   "execution_count": null,
   "metadata": {},
   "outputs": [],
   "source": [
    "print(wordPattern(\"abba\", \"dog cat cat dog\"))\n",
    "print(wordPattern(\"abba\", \"dog cat cat fish\"))\n",
    "print(wordPattern(\"aaaa\", \"dog cat cat dog\"))\n",
    "print(wordPattern(\"abba\", \"dog dog dog dog\"))"
   ]
  }
 ],
 "metadata": {
  "kernelspec": {
   "display_name": "Python 3",
   "language": "python",
   "name": "python3"
  },
  "language_info": {
   "codemirror_mode": {
    "name": "ipython",
    "version": 3
   },
   "file_extension": ".py",
   "mimetype": "text/x-python",
   "name": "python",
   "nbconvert_exporter": "python",
   "pygments_lexer": "ipython3",
   "version": "3.10.5"
  },
  "orig_nbformat": 4,
  "vscode": {
   "interpreter": {
    "hash": "434f2bcca716b3712093bbeaf4b043651dd7dfcf409992b3771072bf00fd41a0"
   }
  }
 },
 "nbformat": 4,
 "nbformat_minor": 2
}
