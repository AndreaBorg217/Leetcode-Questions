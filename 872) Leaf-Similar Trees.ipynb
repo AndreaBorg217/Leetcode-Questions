{
 "cells": [
  {
   "attachments": {},
   "cell_type": "markdown",
   "metadata": {},
   "source": [
    "## Problem\n",
    "\n",
    "Consider all the leaves of a binary tree, from left to right order, the values of those leaves form a **leaf value sequence***.*\n",
    "\n",
    "![https://s3-lc-upload.s3.amazonaws.com/uploads/2018/07/16/tree.png](https://s3-lc-upload.s3.amazonaws.com/uploads/2018/07/16/tree.png)\n",
    "\n",
    "For example, in the given tree above, the leaf value sequence is `(6, 7, 4, 9, 8)`.\n",
    "\n",
    "Two binary trees are considered *leaf-similar* if their leaf value sequence is the same.\n",
    "\n",
    "Return `true` if and only if the two given trees with head nodes `root1` and `root2` are leaf-similar.\n",
    "\n",
    "**Example 1:**\n",
    "\n",
    "![https://assets.leetcode.com/uploads/2020/09/03/leaf-similar-1.jpg](https://assets.leetcode.com/uploads/2020/09/03/leaf-similar-1.jpg)\n",
    "\n",
    "```\n",
    "Input: root1 = [3,5,1,6,2,9,8,null,null,7,4], root2 = [3,5,1,6,7,4,2,null,null,null,null,null,null,9,8]\n",
    "Output: true\n",
    "\n",
    "```\n",
    "\n",
    "**Example 2:**\n",
    "\n",
    "![https://assets.leetcode.com/uploads/2020/09/03/leaf-similar-2.jpg](https://assets.leetcode.com/uploads/2020/09/03/leaf-similar-2.jpg)\n",
    "\n",
    "```\n",
    "Input: root1 = [1,2,3], root2 = [1,3,2]\n",
    "Output: false\n",
    "```\n",
    "\n",
    "## Solution"
   ]
  },
  {
   "cell_type": "code",
   "execution_count": null,
   "metadata": {},
   "outputs": [],
   "source": [
    "def leafSimilar(root1, root2):\n",
    "    return leafNodes(root1) == leafNodes(root2)\n",
    "    \n",
    "def leafNodes(root):\n",
    "    leaves = list()\n",
    "    inOrder(root, leaves)\n",
    "    return leaves\n",
    "    \n",
    "def inOrder(root, leaves):\n",
    "    if root:\n",
    "        inOrder(root.left, leaves)\n",
    "        if root.left == root.right: leaves.append(root.val)\n",
    "        inOrder(root.right, leaves)"
   ]
  }
 ],
 "metadata": {
  "kernelspec": {
   "display_name": "Python 3",
   "language": "python",
   "name": "python3"
  },
  "language_info": {
   "name": "python",
   "version": "3.10.5"
  },
  "orig_nbformat": 4,
  "vscode": {
   "interpreter": {
    "hash": "434f2bcca716b3712093bbeaf4b043651dd7dfcf409992b3771072bf00fd41a0"
   }
  }
 },
 "nbformat": 4,
 "nbformat_minor": 2
}
