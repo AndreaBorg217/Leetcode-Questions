{
 "cells": [
  {
   "attachments": {},
   "cell_type": "markdown",
   "metadata": {},
   "source": [
    "## Problem\n",
    "\n",
    "Given the `root` of a binary tree, return *its maximum depth*.\n",
    "\n",
    "A binary tree's **maximum depth** is the number of nodes along the longest path from the root node down to the farthest leaf node.\n",
    "\n",
    "**Example 1:**\n",
    "\n",
    "![https://assets.leetcode.com/uploads/2020/11/26/tmp-tree.jpg](https://assets.leetcode.com/uploads/2020/11/26/tmp-tree.jpg)\n",
    "\n",
    "```\n",
    "Input: root = [3,9,20,null,null,15,7]\n",
    "Output: 3\n",
    "```\n",
    "\n",
    "**Example 2:**\n",
    "\n",
    "```\n",
    "Input: root = [1,null,2]\n",
    "Output: 2\n",
    "```\n",
    "\n",
    "## Solution\n",
    "\n",
    "```java\n",
    "public int maxDepth(TreeNode root) {\n",
    "\treturn depthRec(root);\n",
    "}\n",
    "\n",
    "public int depthRec(TreeNode root){\n",
    "\tif (root == null) {\n",
    "\t\treturn 0;\n",
    "\t}\n",
    "\treturn 1 + Math.max(depthRec(root.left), depthRec(root.right));\n",
    "}\n",
    "```"
   ]
  }
 ],
 "metadata": {
  "kernelspec": {
   "display_name": "Python 3",
   "language": "python",
   "name": "python3"
  },
  "language_info": {
   "name": "python",
   "version": "3.10.5"
  },
  "orig_nbformat": 4,
  "vscode": {
   "interpreter": {
    "hash": "434f2bcca716b3712093bbeaf4b043651dd7dfcf409992b3771072bf00fd41a0"
   }
  }
 },
 "nbformat": 4,
 "nbformat_minor": 2
}
