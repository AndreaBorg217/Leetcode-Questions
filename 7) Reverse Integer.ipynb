{
 "cells": [
  {
   "attachments": {},
   "cell_type": "markdown",
   "metadata": {},
   "source": [
    "## Problem\n",
    "\n",
    "Given a signed 32-bit integer `x`, return `x` *with its digits reversed*. If reversing `x` causes the value to go outside the signed 32-bit integer range `[-2^31, 2^31 - 1]`, then return `0`.\n",
    "\n",
    "**Assume the environment does not allow you to store 64-bit integers (signed or unsigned).**\n",
    "\n",
    "**Example 1:**\n",
    "\n",
    "```\n",
    "Input: x = 123\n",
    "Output: 321\n",
    "\n",
    "```\n",
    "\n",
    "**Example 2:**\n",
    "\n",
    "```\n",
    "Input: x = -123\n",
    "Output: -321\n",
    "\n",
    "```\n",
    "\n",
    "**Example 3:**\n",
    "\n",
    "```\n",
    "Input: x = 120\n",
    "Output: 21\n",
    "```\n",
    "\n",
    "## Solution"
   ]
  },
  {
   "cell_type": "code",
   "execution_count": null,
   "metadata": {},
   "outputs": [],
   "source": [
    "def reverse(x):\n",
    "    MAX = 2**31        # 2^31\n",
    "    MIN = -(MAX) - 1   # -(2^31)-1    \n",
    "    if x == 0: return 0\n",
    "    x = str(x)\n",
    "    signed  = x[0] == '-' # True if x is a negative number\n",
    "    if signed: x = x[1::] # if x is a negative number we remove the '-''\n",
    "    # remove any 0s x has at the end \n",
    "    x = x.rstrip('0')\n",
    "    x = x[::-1]           # we reverse x    \n",
    "    if signed: x = -int(x) # we add the - back if x had one\n",
    "    # check for overflow & underflow -> return 0\n",
    "    if int(x) > MAX or int(x) < MIN: return 0\n",
    "    # if no overflow return x\n",
    "    return int(x)"
   ]
  },
  {
   "cell_type": "code",
   "execution_count": null,
   "metadata": {},
   "outputs": [],
   "source": [
    "# TEST CASES\n",
    "print(reverse(123))\n",
    "print(reverse(-123))\n",
    "print(reverse(120))"
   ]
  }
 ],
 "metadata": {
  "kernelspec": {
   "display_name": "Python 3",
   "language": "python",
   "name": "python3"
  },
  "language_info": {
   "name": "python",
   "version": "3.10.5"
  },
  "orig_nbformat": 4,
  "vscode": {
   "interpreter": {
    "hash": "434f2bcca716b3712093bbeaf4b043651dd7dfcf409992b3771072bf00fd41a0"
   }
  }
 },
 "nbformat": 4,
 "nbformat_minor": 2
}
