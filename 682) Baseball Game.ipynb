{
 "cells": [
  {
   "attachments": {},
   "cell_type": "markdown",
   "metadata": {},
   "source": [
    "## Problem\n",
    "\n",
    "You are keeping the scores for a baseball game with strange rules. At the beginning of the game, you start with an empty record.\n",
    "\n",
    "You are given a list of strings `operations`, where `operations[i]` is the `ith` operation you must apply to the record and is one of the following:\n",
    "\n",
    "- An integer `x`.\n",
    "    - Record a new score of `x`.\n",
    "- `'+'`.\n",
    "    - Record a new score that is the sum of the previous two scores.\n",
    "- `'D'`.\n",
    "    - Record a new score that is the double of the previous score.\n",
    "- `'C'`.\n",
    "    - Invalidate the previous score, removing it from the record.\n",
    "\n",
    "Return *the sum of all the scores on the record after applying all the operations*.\n",
    "\n",
    "The test cases are generated such that the answer and all intermediate calculations fit in a **32-bit** integer and that all operations are valid.\n",
    "\n",
    "**Example 1:**\n",
    "\n",
    "```\n",
    "Input: ops = [\"5\",\"2\",\"C\",\"D\",\"+\"]\n",
    "Output: 30\n",
    "Explanation:\n",
    "\"5\" - Add 5 to the record, record is now [5].\n",
    "\"2\" - Add 2 to the record, record is now [5, 2].\n",
    "\"C\" - Invalidate and remove the previous score, record is now [5].\n",
    "\"D\" - Add 2 * 5 = 10 to the record, record is now [5, 10].\n",
    "\"+\" - Add 5 + 10 = 15 to the record, record is now [5, 10, 15].\n",
    "The total sum is 5 + 10 + 15 = 30.\n",
    "\n",
    "```\n",
    "\n",
    "**Example 2:**\n",
    "\n",
    "```\n",
    "Input: ops = [\"5\",\"-2\",\"4\",\"C\",\"D\",\"9\",\"+\",\"+\"]\n",
    "Output: 27\n",
    "Explanation:\n",
    "\"5\" - Add 5 to the record, record is now [5].\n",
    "\"-2\" - Add -2 to the record, record is now [5, -2].\n",
    "\"4\" - Add 4 to the record, record is now [5, -2, 4].\n",
    "\"C\" - Invalidate and remove the previous score, record is now [5, -2].\n",
    "\"D\" - Add 2 * -2 = -4 to the record, record is now [5, -2, -4].\n",
    "\"9\" - Add 9 to the record, record is now [5, -2, -4, 9].\n",
    "\"+\" - Add -4 + 9 = 5 to the record, record is now [5, -2, -4, 9, 5].\n",
    "\"+\" - Add 9 + 5 = 14 to the record, record is now [5, -2, -4, 9, 5, 14].\n",
    "The total sum is 5 + -2 + -4 + 9 + 5 + 14 = 27.\n",
    "\n",
    "```\n",
    "\n",
    "**Example 3:**\n",
    "\n",
    "```\n",
    "Input: ops = [\"1\",\"C\"]\n",
    "Output: 0\n",
    "Explanation:\n",
    "\"1\" - Add 1 to the record, record is now [1].\n",
    "\"C\" - Invalidate and remove the previous score, record is now [].\n",
    "Since the record is empty, the total sum is 0.\n",
    "```\n",
    "\n",
    "## Solution\n"
   ]
  },
  {
   "cell_type": "code",
   "execution_count": 1,
   "metadata": {},
   "outputs": [],
   "source": [
    "def calPoints(operations):\n",
    "    score = list()\n",
    "    sum = 0\n",
    "    for i in range(len(operations)):\n",
    "        if operations[i].isnumeric() or operations[i][1:].isnumeric(): \n",
    "            score.append(int(operations[i]))\n",
    "            sum = sum + int(operations[i])\n",
    "        \n",
    "        if operations[i] == \"C\": \n",
    "            sum = sum - score[len(score)-1]\n",
    "            score = score[:-1]\n",
    "\n",
    "        if operations[i] == \"+\": \n",
    "            sum = sum + score[len(score)-1] + score[len(score)-2]\n",
    "            score.append(score[len(score)-1] + score[len(score)-2])\n",
    "        \n",
    "        if operations[i] == \"D\":\n",
    "            sum = sum + (2 * score[len(score)-1])\n",
    "            score.append(2 * score[len(score)-1])\n",
    "    \n",
    "    return sum"
   ]
  },
  {
   "cell_type": "code",
   "execution_count": 2,
   "metadata": {},
   "outputs": [
    {
     "name": "stdout",
     "output_type": "stream",
     "text": [
      "30\n",
      "27\n",
      "0\n"
     ]
    }
   ],
   "source": [
    "print(calPoints([\"5\",\"2\",\"C\",\"D\",\"+\"]))\n",
    "print(calPoints([\"5\",\"-2\",\"4\",\"C\",\"D\",\"9\",\"+\",\"+\"]))\n",
    "print(calPoints([\"1\",\"C\"]))"
   ]
  }
 ],
 "metadata": {
  "kernelspec": {
   "display_name": "Python 3",
   "language": "python",
   "name": "python3"
  },
  "language_info": {
   "codemirror_mode": {
    "name": "ipython",
    "version": 3
   },
   "file_extension": ".py",
   "mimetype": "text/x-python",
   "name": "python",
   "nbconvert_exporter": "python",
   "pygments_lexer": "ipython3",
   "version": "3.10.5"
  },
  "orig_nbformat": 4,
  "vscode": {
   "interpreter": {
    "hash": "434f2bcca716b3712093bbeaf4b043651dd7dfcf409992b3771072bf00fd41a0"
   }
  }
 },
 "nbformat": 4,
 "nbformat_minor": 2
}
