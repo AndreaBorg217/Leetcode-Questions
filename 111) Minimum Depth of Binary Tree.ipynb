{
 "cells": [
  {
   "attachments": {},
   "cell_type": "markdown",
   "metadata": {},
   "source": [
    "## Problem\n",
    "\n",
    "Given a binary tree, find its minimum depth.\n",
    "\n",
    "The minimum depth is the number of nodes along the shortest path from the root node down to the nearest leaf node.\n",
    "\n",
    "**Note:** A leaf is a node with no children.\n",
    "\n",
    "**Example 1:**\n",
    "\n",
    "![https://assets.leetcode.com/uploads/2020/10/12/ex_depth.jpg](https://assets.leetcode.com/uploads/2020/10/12/ex_depth.jpg)\n",
    "\n",
    "```\n",
    "Input: root = [3,9,20,null,null,15,7]\n",
    "Output: 2\n",
    "\n",
    "```\n",
    "\n",
    "**Example 2:**\n",
    "\n",
    "```\n",
    "Input: root = [2,null,3,null,4,null,5,null,6]\n",
    "Output: 5\n",
    "```\n",
    "\n",
    "## Solution"
   ]
  },
  {
   "cell_type": "code",
   "execution_count": null,
   "metadata": {},
   "outputs": [],
   "source": [
    "def minDepth(self, root):\n",
    "    # Empty tree\n",
    "    if root is None: return 0\n",
    "    # Leaf node\n",
    "    if root.left == root.right: return 1\n",
    "    # Right skew\n",
    "    if root.left is None: return 1 + self.minDepth(root.right)\n",
    "    # Left skew\n",
    "    if root.right is None: return 1 + self.minDepth(root.left)\n",
    "    # Has both left & right children\n",
    "    return 1 + min(self.minDepth(root.left), self.minDepth(root.right))"
   ]
  }
 ],
 "metadata": {
  "kernelspec": {
   "display_name": "Python 3",
   "language": "python",
   "name": "python3"
  },
  "language_info": {
   "name": "python",
   "version": "3.10.5"
  },
  "orig_nbformat": 4,
  "vscode": {
   "interpreter": {
    "hash": "434f2bcca716b3712093bbeaf4b043651dd7dfcf409992b3771072bf00fd41a0"
   }
  }
 },
 "nbformat": 4,
 "nbformat_minor": 2
}
