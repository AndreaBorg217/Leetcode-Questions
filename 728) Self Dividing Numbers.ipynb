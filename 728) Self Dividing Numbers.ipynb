{
 "cells": [
  {
   "attachments": {},
   "cell_type": "markdown",
   "metadata": {},
   "source": [
    "## Problem\n",
    "\n",
    "A **self-dividing number** is a number that is divisible by every digit it contains.\n",
    "\n",
    "- For example, `128` is **a self-dividing number** because `128 % 1 == 0`, `128 % 2 == 0`, and `128 % 8 == 0`.\n",
    "\n",
    "A **self-dividing number** is not allowed to contain the digit zero.\n",
    "\n",
    "Given two integers `left` and `right`, return *a list of all the **self-dividing numbers** in the range* `[left, right]`.\n",
    "\n",
    "**Example 1:**\n",
    "\n",
    "```\n",
    "Input: left = 1, right = 22\n",
    "Output: [1,2,3,4,5,6,7,8,9,11,12,15,22]\n",
    "\n",
    "```\n",
    "\n",
    "**Example 2:**\n",
    "\n",
    "```\n",
    "Input: left = 47, right = 85\n",
    "Output: [48,55,66,77]\n",
    "```\n",
    "\n",
    "## Solution\n"
   ]
  },
  {
   "cell_type": "code",
   "execution_count": null,
   "metadata": {},
   "outputs": [],
   "source": [
    "def selfDividingNumbers(left, right):\n",
    "        output = list()\n",
    "        for n in range(left, right+1):\n",
    "            if isSelfDividing(n): output.append(n)\n",
    "        return output\n",
    "    \n",
    "def isSelfDividing(self, n):\n",
    "    divisors = [int(x) for x in str(n)]\n",
    "    for d in divisors:\n",
    "        if d == 0: return False\n",
    "        if not n % d == 0: return False\n",
    "    return True"
   ]
  },
  {
   "cell_type": "code",
   "execution_count": null,
   "metadata": {},
   "outputs": [],
   "source": [
    "print(isSelfDividing(left = 1, right = 22))\n",
    "print(isSelfDividing(left = 47, right = 85))"
   ]
  }
 ],
 "metadata": {
  "language_info": {
   "name": "python"
  },
  "orig_nbformat": 4
 },
 "nbformat": 4,
 "nbformat_minor": 2
}
