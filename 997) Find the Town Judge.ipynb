{
 "cells": [
  {
   "attachments": {},
   "cell_type": "markdown",
   "metadata": {},
   "source": [
    "## Problem\n",
    "\n",
    "In a town, there are `n` people labeled from `1` to `n`. There is a rumor that one of these people is secretly the town judge.\n",
    "\n",
    "If the town judge exists, then:\n",
    "\n",
    "1. The town judge trusts nobody.\n",
    "2. Everybody (except for the town judge) trusts the town judge.\n",
    "\n",
    "There is exactly one person that satisfies properties **1** and **2**.\n",
    "\n",
    "You are given an array `trust` where `trust[i] = [ai, bi]` representing that the person labelled `ai` trusts the person labelled `bi`.\n",
    "\n",
    "Return *the label of the town judge if the town judge exists and can be identified, or return* `-1` *otherwise*.\n",
    "\n",
    "**Example 1:**\n",
    "\n",
    "```\n",
    "Input: n = 2, trust = [[1,2]]\n",
    "Output: 2\n",
    "\n",
    "```\n",
    "\n",
    "**Example 2:**\n",
    "\n",
    "```\n",
    "Input: n = 3, trust = [[1,3],[2,3]]\n",
    "Output: 3\n",
    "\n",
    "```\n",
    "\n",
    "**Example 3:**\n",
    "\n",
    "```\n",
    "Input: n = 3, trust = [[1,3],[2,3],[3,1]]\n",
    "Output: -1\n",
    "```\n",
    "\n",
    "## Solution\n"
   ]
  },
  {
   "cell_type": "code",
   "execution_count": 1,
   "metadata": {},
   "outputs": [],
   "source": [
    "import numpy as np\n",
    "\n",
    "def findJudge(n, trust):\n",
    "    if trust == [] and n == 1:\n",
    "        return 1\n",
    "    if trust == [] and n > 1:\n",
    "        return -1\n",
    "    \n",
    "\t\t# flatten trust  \n",
    "    flat = list(np.array(trust).flatten())\n",
    "    \n",
    "\t\t# obtain an array of index 1s in trust's pairs\n",
    "    trusted = flat[1::2]\n",
    "    \n",
    "\t\t# obtain an array of index 0s in trust's pairs\n",
    "    trusting = flat[0::2]\n",
    "    \n",
    "\t\t# obtain an array of unique individuals\n",
    "    individuals = list(np.unique(np.array(trust)))\n",
    "    \n",
    "\t\t# check that an individual doesn't appear in trusting but appears n-1 times in trusted\n",
    "    for element in individuals:\n",
    "        if element not in trusting and trusted.count(element) == n-1:\n",
    "            return element\n",
    "    return -1\n"
   ]
  },
  {
   "cell_type": "code",
   "execution_count": 2,
   "metadata": {},
   "outputs": [
    {
     "name": "stdout",
     "output_type": "stream",
     "text": [
      "2\n",
      "3\n",
      "-1\n"
     ]
    }
   ],
   "source": [
    "# TEST CASES\n",
    "print(findJudge(2, [[1,2]]))\n",
    "print(findJudge(3, [[1,3],[2,3]]))\n",
    "print(findJudge(3, [[1,3],[2,3],[3,1]]))"
   ]
  }
 ],
 "metadata": {
  "kernelspec": {
   "display_name": "Python 3",
   "language": "python",
   "name": "python3"
  },
  "language_info": {
   "codemirror_mode": {
    "name": "ipython",
    "version": 3
   },
   "file_extension": ".py",
   "mimetype": "text/x-python",
   "name": "python",
   "nbconvert_exporter": "python",
   "pygments_lexer": "ipython3",
   "version": "3.10.5"
  },
  "orig_nbformat": 4,
  "vscode": {
   "interpreter": {
    "hash": "434f2bcca716b3712093bbeaf4b043651dd7dfcf409992b3771072bf00fd41a0"
   }
  }
 },
 "nbformat": 4,
 "nbformat_minor": 2
}
