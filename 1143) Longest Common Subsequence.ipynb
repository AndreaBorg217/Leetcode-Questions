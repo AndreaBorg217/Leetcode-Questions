{
 "cells": [
  {
   "attachments": {},
   "cell_type": "markdown",
   "metadata": {},
   "source": [
    "## Problem\n",
    "\n",
    "Given two strings `text1` and `text2`, return *the length of their longest **common subsequence**.* If there is no **common subsequence**, return `0`.\n",
    "\n",
    "A **subsequence** of a string is a new string generated from the original string with some characters (can be none) deleted without changing the relative order of the remaining characters.\n",
    "\n",
    "- For example, `\"ace\"` is a subsequence of `\"abcde\"`.\n",
    "\n",
    "A **common subsequence** of two strings is a subsequence that is common to both strings.\n",
    "\n",
    "**Example 1:**\n",
    "\n",
    "```\n",
    "Input: text1 = \"abcde\", text2 = \"ace\"\n",
    "Output: 3\n",
    "Explanation: The longest common subsequence is \"ace\" and its length is 3.\n",
    "\n",
    "```\n",
    "\n",
    "**Example 2:**\n",
    "\n",
    "```\n",
    "Input: text1 = \"abc\", text2 = \"abc\"\n",
    "Output: 3\n",
    "Explanation: The longest common subsequence is \"abc\" and its length is 3.\n",
    "\n",
    "```\n",
    "\n",
    "**Example 3:**\n",
    "\n",
    "```\n",
    "Input: text1 = \"abc\", text2 = \"def\"\n",
    "Output: 0\n",
    "Explanation: There is no such common subsequence, so the result is 0.\n",
    "```\n",
    "\n",
    "## Solution\n"
   ]
  },
  {
   "cell_type": "code",
   "execution_count": 35,
   "metadata": {},
   "outputs": [],
   "source": [
    "def longestCommonSubsequence(text1, text2):\n",
    "    memo = [[None] * (len(text2)+1) for _ in range(len(text1)+1)]\n",
    "    return lcs(text1, text2, memo)\n",
    "\n",
    "def lcs(text1, text2, memo):\n",
    "        len1 = len(text1)\n",
    "        len2 = len(text2)\n",
    "\n",
    "        if len1 == 0 or len2 == 0: return 0\n",
    "        \n",
    "        if memo[len1-1][len2-1]: return memo[len1-1][len2-1]\n",
    "        \n",
    "        if text1[-1] == text2[-1]: \n",
    "            memo[len1-1][len2-1] = 1 + lcs(text1[:-1], text2[:-1], memo)\n",
    "            return memo[len1-1][len2-1]\n",
    "            \n",
    "        memo[len1-1][len2-1] = max(lcs(text1[:-1], text2, memo), lcs(text1, text2[:-1], memo))\n",
    "        return memo[len1-1][len2-1]"
   ]
  },
  {
   "cell_type": "code",
   "execution_count": 36,
   "metadata": {},
   "outputs": [
    {
     "name": "stdout",
     "output_type": "stream",
     "text": [
      "3\n",
      "3\n",
      "0\n"
     ]
    }
   ],
   "source": [
    "print(longestCommonSubsequence(text1 = \"abcde\", text2 = \"ace\"))\n",
    "print(longestCommonSubsequence(text1 = \"abc\", text2 = \"abc\"))\n",
    "print(longestCommonSubsequence(text1 = \"abc\", text2 = \"def\"))"
   ]
  }
 ],
 "metadata": {
  "kernelspec": {
   "display_name": "Python 3",
   "language": "python",
   "name": "python3"
  },
  "language_info": {
   "codemirror_mode": {
    "name": "ipython",
    "version": 3
   },
   "file_extension": ".py",
   "mimetype": "text/x-python",
   "name": "python",
   "nbconvert_exporter": "python",
   "pygments_lexer": "ipython3",
   "version": "3.10.5"
  },
  "orig_nbformat": 4,
  "vscode": {
   "interpreter": {
    "hash": "434f2bcca716b3712093bbeaf4b043651dd7dfcf409992b3771072bf00fd41a0"
   }
  }
 },
 "nbformat": 4,
 "nbformat_minor": 2
}
