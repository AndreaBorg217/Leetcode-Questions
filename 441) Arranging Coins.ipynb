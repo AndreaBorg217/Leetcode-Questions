{
 "cells": [
  {
   "attachments": {},
   "cell_type": "markdown",
   "metadata": {},
   "source": [
    "## Problem\n",
    "\n",
    "You have `n` coins and you want to build a staircase with these coins. The staircase consists of `k` rows where the `ith` row has exactly `i` coins. The last row of the staircase **may be** incomplete.\n",
    "\n",
    "Given the integer `n`, return *the number of **complete rows** of the staircase you will build*.\n",
    "\n",
    "**Example 1:**\n",
    "\n",
    "![https://assets.leetcode.com/uploads/2021/04/09/arrangecoins1-grid.jpg](https://assets.leetcode.com/uploads/2021/04/09/arrangecoins1-grid.jpg)\n",
    "\n",
    "```\n",
    "Input: n = 5\n",
    "Output: 2\n",
    "Explanation: Because the 3rd row is incomplete, we return 2.\n",
    "\n",
    "```\n",
    "\n",
    "**Example 2:**\n",
    "\n",
    "![https://assets.leetcode.com/uploads/2021/04/09/arrangecoins2-grid.jpg](https://assets.leetcode.com/uploads/2021/04/09/arrangecoins2-grid.jpg)\n",
    "\n",
    "```\n",
    "Input: n = 8\n",
    "Output: 3\n",
    "Explanation: Because the 4th row is incomplete, we return 3.\n",
    "```\n",
    "\n",
    "## Solution"
   ]
  },
  {
   "cell_type": "code",
   "execution_count": null,
   "metadata": {},
   "outputs": [],
   "source": [
    "def arrangeCoins(n):\n",
    "    numRows = 1\n",
    "    while n > 0:\n",
    "        numRows = numRows + 1\n",
    "        n = n - numRows\n",
    "    return numRows - 1"
   ]
  },
  {
   "cell_type": "code",
   "execution_count": null,
   "metadata": {},
   "outputs": [],
   "source": [
    "print(arrangeCoins(5))\n",
    "print(arrangeCoins(8))"
   ]
  }
 ],
 "metadata": {
  "kernelspec": {
   "display_name": "Python 3",
   "language": "python",
   "name": "python3"
  },
  "language_info": {
   "codemirror_mode": {
    "name": "ipython",
    "version": 3
   },
   "file_extension": ".py",
   "mimetype": "text/x-python",
   "name": "python",
   "nbconvert_exporter": "python",
   "pygments_lexer": "ipython3",
   "version": "3.10.5"
  },
  "orig_nbformat": 4,
  "vscode": {
   "interpreter": {
    "hash": "434f2bcca716b3712093bbeaf4b043651dd7dfcf409992b3771072bf00fd41a0"
   }
  }
 },
 "nbformat": 4,
 "nbformat_minor": 2
}
