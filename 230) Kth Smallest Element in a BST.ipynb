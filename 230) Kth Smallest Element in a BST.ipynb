{
 "cells": [
  {
   "attachments": {},
   "cell_type": "markdown",
   "metadata": {},
   "source": [
    "## Problem\n",
    "\n",
    "Given the `root` of a binary search tree, and an integer `k`, return *the* `kth` *smallest value (**1-indexed**) of all the values of the nodes in the tree*.\n",
    "\n",
    "**Example 1:**\n",
    "\n",
    "![https://assets.leetcode.com/uploads/2021/01/28/kthtree1.jpg](https://assets.leetcode.com/uploads/2021/01/28/kthtree1.jpg)\n",
    "\n",
    "```\n",
    "Input: root = [3,1,4,null,2], k = 1\n",
    "Output: 1\n",
    "\n",
    "```\n",
    "\n",
    "**Example 2:**\n",
    "\n",
    "![https://assets.leetcode.com/uploads/2021/01/28/kthtree2.jpg](https://assets.leetcode.com/uploads/2021/01/28/kthtree2.jpg)\n",
    "\n",
    "```\n",
    "Input: root = [5,3,6,2,4,null,null,1], k = 3\n",
    "Output: 3\n",
    "```\n",
    "\n",
    "## Solution\n"
   ]
  },
  {
   "cell_type": "code",
   "execution_count": null,
   "metadata": {},
   "outputs": [],
   "source": [
    "def kthSmallest(root, k):\n",
    "    traversal = self.inOrderTraversal(root)\n",
    "    return traversal[k-1] # -1 to account for 1-indexing\n",
    "    \n",
    "def inOrderTraversal(root):\n",
    "    output = list()\n",
    "    inOrderRec(root, output)\n",
    "    return output\n",
    "\n",
    "def inOrderRec(root, output):\n",
    "    if root:\n",
    "        inOrderRec(root.left, output)\n",
    "        output.append(root.val)\n",
    "        inOrderRec(root.right, output)"
   ]
  }
 ],
 "metadata": {
  "kernelspec": {
   "display_name": "Python 3",
   "language": "python",
   "name": "python3"
  },
  "language_info": {
   "name": "python",
   "version": "3.10.5"
  },
  "orig_nbformat": 4,
  "vscode": {
   "interpreter": {
    "hash": "434f2bcca716b3712093bbeaf4b043651dd7dfcf409992b3771072bf00fd41a0"
   }
  }
 },
 "nbformat": 4,
 "nbformat_minor": 2
}
