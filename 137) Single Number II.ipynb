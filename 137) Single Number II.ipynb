{
 "cells": [
  {
   "attachments": {},
   "cell_type": "markdown",
   "metadata": {},
   "source": [
    "## Problem\n",
    "\n",
    "Given an integer array `nums` where every element appears **three times** except for one, which appears **exactly once**. *Find the single element and return it*.\n",
    "\n",
    "You must implement a solution with a linear runtime complexity and use only constant extra space.\n",
    "\n",
    "**Example 1:**\n",
    "\n",
    "```\n",
    "Input: nums = [2,2,3,2]\n",
    "Output: 3\n",
    "\n",
    "```\n",
    "\n",
    "**Example 2:**\n",
    "\n",
    "```\n",
    "Input: nums = [0,1,0,1,0,1,99]\n",
    "Output: 99\n",
    "```\n",
    "\n",
    "## Solution"
   ]
  },
  {
   "cell_type": "code",
   "execution_count": null,
   "metadata": {},
   "outputs": [],
   "source": [
    "def singleNumber(nums):\n",
    "    counts = dict()\n",
    "    for n in nums:\n",
    "        if n in counts: counts[n] = counts[n] + 1\n",
    "        else: counts.update({n: 1})\n",
    "        \n",
    "    for x in counts: \n",
    "        if counts[x] == 1: return x"
   ]
  }
 ],
 "metadata": {
  "kernelspec": {
   "display_name": "Python 3",
   "language": "python",
   "name": "python3"
  },
  "language_info": {
   "name": "python",
   "version": "3.10.5"
  },
  "orig_nbformat": 4,
  "vscode": {
   "interpreter": {
    "hash": "434f2bcca716b3712093bbeaf4b043651dd7dfcf409992b3771072bf00fd41a0"
   }
  }
 },
 "nbformat": 4,
 "nbformat_minor": 2
}
