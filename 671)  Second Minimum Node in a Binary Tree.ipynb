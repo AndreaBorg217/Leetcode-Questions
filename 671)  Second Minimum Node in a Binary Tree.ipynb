{
 "cells": [
  {
   "attachments": {},
   "cell_type": "markdown",
   "metadata": {},
   "source": [
    "## Problem\n",
    "\n",
    "Given a non-empty special binary tree consisting of nodes with the non-negative value, where each node in this tree has exactly `two` or `zero` sub-node. If the node has two sub-nodes, then this node's value is the smaller value among its two sub-nodes. More formally, the property `root.val = min(root.left.val, root.right.val)` always holds.\n",
    "\n",
    "Given such a binary tree, you need to output the **second minimum** value in the set made of all the nodes' value in the whole tree.\n",
    "\n",
    "If no such second minimum value exists, output -1 instead.\n",
    "\n",
    "**Example 1:**\n",
    "\n",
    "![https://assets.leetcode.com/uploads/2020/10/15/smbt1.jpg](https://assets.leetcode.com/uploads/2020/10/15/smbt1.jpg)\n",
    "\n",
    "```\n",
    "Input: root = [2,2,5,null,null,5,7]\n",
    "Output: 5\n",
    "Explanation: The smallest value is 2, the second smallest value is 5.\n",
    "\n",
    "```\n",
    "\n",
    "**Example 2:**\n",
    "\n",
    "![https://assets.leetcode.com/uploads/2020/10/15/smbt2.jpg](https://assets.leetcode.com/uploads/2020/10/15/smbt2.jpg)\n",
    "\n",
    "```\n",
    "Input: root = [2,2,2]\n",
    "Output: -1\n",
    "Explanation: The smallest value is 2, but there isn't any second smallest value.\n",
    "```\n",
    "\n",
    "## Solution"
   ]
  },
  {
   "cell_type": "code",
   "execution_count": null,
   "metadata": {},
   "outputs": [],
   "source": [
    "def findSecondMinimumValue(root):\n",
    "        unique = set()\n",
    "        inOrder(root, unique)\n",
    "        if len(unique) > 1: return sorted(list(unique))[1]\n",
    "        return -1\n",
    "    \n",
    "def inOrder(root, unique):\n",
    "    if root:\n",
    "        inOrder(root.left, unique)\n",
    "        unique.add(root.val)\n",
    "        inOrder(root.right, unique)"
   ]
  }
 ],
 "metadata": {
  "kernelspec": {
   "display_name": "Python 3",
   "language": "python",
   "name": "python3"
  },
  "language_info": {
   "name": "python",
   "version": "3.10.5"
  },
  "orig_nbformat": 4,
  "vscode": {
   "interpreter": {
    "hash": "434f2bcca716b3712093bbeaf4b043651dd7dfcf409992b3771072bf00fd41a0"
   }
  }
 },
 "nbformat": 4,
 "nbformat_minor": 2
}
