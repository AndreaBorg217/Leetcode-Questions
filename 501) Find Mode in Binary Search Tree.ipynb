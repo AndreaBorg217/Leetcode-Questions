{
 "cells": [
  {
   "attachments": {},
   "cell_type": "markdown",
   "metadata": {},
   "source": [
    "## Problem\n",
    "\n",
    "Given the `root` of a binary search tree (BST) with duplicates, return *all the [mode(s)](https://en.wikipedia.org/wiki/Mode_(statistics)) (i.e., the most frequently occurred element) in it*.\n",
    "\n",
    "If the tree has more than one mode, return them in **any order**.\n",
    "\n",
    "Assume a BST is defined as follows:\n",
    "\n",
    "- The left subtree of a node contains only nodes with keys **less than or equal to** the node's key.\n",
    "- The right subtree of a node contains only nodes with keys **greater than or equal to** the node's key.\n",
    "- Both the left and right subtrees must also be binary search trees.\n",
    "\n",
    "**Example 1:**\n",
    "\n",
    "![https://assets.leetcode.com/uploads/2021/03/11/mode-tree.jpg](https://assets.leetcode.com/uploads/2021/03/11/mode-tree.jpg)\n",
    "\n",
    "```\n",
    "Input: root = [1,null,2,2]\n",
    "Output: [2]\n",
    "\n",
    "```\n",
    "\n",
    "**Example 2:**\n",
    "\n",
    "```\n",
    "Input: root = [0]\n",
    "Output: [0]\n",
    "```\n",
    "\n",
    "## Solution"
   ]
  },
  {
   "cell_type": "code",
   "execution_count": null,
   "metadata": {},
   "outputs": [],
   "source": [
    "def findMode(root):\n",
    "        unique = dict()\n",
    "        inOrder(root, unique)\n",
    "        return [key for key in unique.keys() if unique[key] == max(unique.values())]\n",
    "    \n",
    "\n",
    "def inOrder(root, unique):\n",
    "    if root:\n",
    "        inOrder(root.left, unique)\n",
    "        if root.val in unique: unique[root.val] = unique[root.val] + 1\n",
    "        else: unique.update({root.val: 1})\n",
    "        inOrder(root.right, unique)"
   ]
  }
 ],
 "metadata": {
  "kernelspec": {
   "display_name": "Python 3",
   "language": "python",
   "name": "python3"
  },
  "language_info": {
   "name": "python",
   "version": "3.10.5"
  },
  "orig_nbformat": 4,
  "vscode": {
   "interpreter": {
    "hash": "434f2bcca716b3712093bbeaf4b043651dd7dfcf409992b3771072bf00fd41a0"
   }
  }
 },
 "nbformat": 4,
 "nbformat_minor": 2
}
