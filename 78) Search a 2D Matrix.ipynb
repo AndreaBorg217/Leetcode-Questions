{
 "cells": [
  {
   "attachments": {},
   "cell_type": "markdown",
   "metadata": {},
   "source": [
    "## Problem\n",
    "\n",
    "You are given an `m x n` integer matrix `matrix` with the following two properties:\n",
    "\n",
    "- Each row is sorted in non-decreasing order.\n",
    "- The first integer of each row is greater than the last integer of the previous row.\n",
    "\n",
    "Given an integer `target`, return `true` *if* `target` *is in* `matrix` *or* `false` *otherwise*.\n",
    "\n",
    "You must write a solution in `O(log(m * n))` time complexity.\n",
    "\n",
    "**Example 1:**\n",
    "\n",
    "![https://assets.leetcode.com/uploads/2020/10/05/mat.jpg](https://assets.leetcode.com/uploads/2020/10/05/mat.jpg)\n",
    "\n",
    "```\n",
    "Input: matrix = [[1,3,5,7],[10,11,16,20],[23,30,34,60]], target = 3\n",
    "Output: true\n",
    "\n",
    "```\n",
    "\n",
    "**Example 2:**\n",
    "\n",
    "![https://assets.leetcode.com/uploads/2020/10/05/mat2.jpg](https://assets.leetcode.com/uploads/2020/10/05/mat2.jpg)\n",
    "\n",
    "```\n",
    "Input: matrix = [[1,3,5,7],[10,11,16,20],[23,30,34,60]], target = 13\n",
    "Output: false\n",
    "```\n",
    "\n",
    "## Solution"
   ]
  },
  {
   "cell_type": "code",
   "execution_count": 7,
   "metadata": {},
   "outputs": [],
   "source": [
    "def searchMatrix(matrix, target):\n",
    "    for i in range(len(matrix)):\n",
    "        if matrix[i][0] == target: return True\n",
    "        if matrix[i][0] > target: return binarySearch(matrix[i-1], target)\n",
    "    return binarySearch(matrix[-1], target)\n",
    "\n",
    "def binarySearch(arr, target):\n",
    "    return binarySearchRec(arr, target, 0, len(arr)-1)\n",
    "\n",
    "def binarySearchRec(arr, target, start, end):\n",
    "    if start > end: return False\n",
    "\n",
    "    mid = (start + end) // 2\n",
    "\n",
    "    if arr[mid] == target: return True\n",
    "    if arr[mid] > target: return binarySearchRec(arr, target, start, mid-1)\n",
    "    if arr[mid] < target: return binarySearchRec(arr, target, mid + 1, end)"
   ]
  },
  {
   "cell_type": "code",
   "execution_count": 9,
   "metadata": {},
   "outputs": [
    {
     "name": "stdout",
     "output_type": "stream",
     "text": [
      "True\n",
      "False\n"
     ]
    }
   ],
   "source": [
    "print(searchMatrix([[1,3,5,7],[10,11,16,20],[23,30,34,60]], 3))\n",
    "print(searchMatrix([[1,3,5,7],[10,11,16,20],[23,30,34,60]], 13))"
   ]
  }
 ],
 "metadata": {
  "kernelspec": {
   "display_name": "Python 3",
   "language": "python",
   "name": "python3"
  },
  "language_info": {
   "codemirror_mode": {
    "name": "ipython",
    "version": 3
   },
   "file_extension": ".py",
   "mimetype": "text/x-python",
   "name": "python",
   "nbconvert_exporter": "python",
   "pygments_lexer": "ipython3",
   "version": "3.10.5"
  },
  "orig_nbformat": 4,
  "vscode": {
   "interpreter": {
    "hash": "434f2bcca716b3712093bbeaf4b043651dd7dfcf409992b3771072bf00fd41a0"
   }
  }
 },
 "nbformat": 4,
 "nbformat_minor": 2
}
