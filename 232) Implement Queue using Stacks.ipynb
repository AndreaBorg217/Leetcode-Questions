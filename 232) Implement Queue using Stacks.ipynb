{
 "cells": [
  {
   "attachments": {},
   "cell_type": "markdown",
   "metadata": {},
   "source": [
    "## Problem\n",
    "\n",
    "Implement a first in first out (FIFO) queue using only two stacks. The implemented queue should support all the functions of a normal queue (`push`, `peek`, `pop`, and `empty`).\n",
    "\n",
    "Implement the `MyQueue` class:\n",
    "\n",
    "- `void push(int x)` Pushes element x to the back of the queue.\n",
    "- `int pop()` Removes the element from the front of the queue and returns it.\n",
    "- `int peek()` Returns the element at the front of the queue.\n",
    "- `boolean empty()` Returns `true` if the queue is empty, `false` otherwise.\n",
    "\n",
    "**Notes:**\n",
    "\n",
    "- You must use **only** standard operations of a stack, which means only `push to top`, `peek/pop from top`, `size`, and `is empty` operations are valid.\n",
    "- Depending on your language, the stack may not be supported natively. You may simulate a stack using a list or deque (double-ended queue) as long as you use only a stack's standard operations.\n",
    "\n",
    "**Example 1:**\n",
    "\n",
    "```\n",
    "Input\n",
    "[\"MyQueue\", \"push\", \"push\", \"peek\", \"pop\", \"empty\"]\n",
    "[[], [1], [2], [], [], []]\n",
    "Output\n",
    "[null, null, null, 1, 1, false]\n",
    "\n",
    "Explanation\n",
    "MyQueue myQueue = new MyQueue();\n",
    "myQueue.push(1); // queue is: [1]\n",
    "myQueue.push(2); // queue is: [1, 2] (leftmost is front of the queue)\n",
    "myQueue.peek(); // return 1\n",
    "myQueue.pop(); // return 1, queue is [2]\n",
    "myQueue.empty(); // return false\n",
    "```\n",
    "\n",
    "## Solution\n",
    "\n",
    "```java\n",
    "class MyQueue {\n",
    "    ArrayList stack;\n",
    "    public MyQueue() {\n",
    "        this.stack = new ArrayList();\n",
    "    }\n",
    "    \n",
    "    public void push(int x) {\n",
    "        this.stack.add(x);\n",
    "    }\n",
    "    \n",
    "    public int pop() {\n",
    "        var popped = this.stack.get(0);\n",
    "        this.stack.remove(0);\n",
    "        return (int)popped;\n",
    "    }\n",
    "    \n",
    "    public int peek() {\n",
    "        return (int)this.stack.get(0);\n",
    "    }\n",
    "    \n",
    "    public boolean empty() {\n",
    "        return this.stack.size() == 0;\n",
    "    }\n",
    "}\n",
    "```"
   ]
  }
 ],
 "metadata": {
  "kernelspec": {
   "display_name": "Python 3",
   "language": "python",
   "name": "python3"
  },
  "language_info": {
   "name": "python",
   "version": "3.10.5"
  },
  "orig_nbformat": 4,
  "vscode": {
   "interpreter": {
    "hash": "434f2bcca716b3712093bbeaf4b043651dd7dfcf409992b3771072bf00fd41a0"
   }
  }
 },
 "nbformat": 4,
 "nbformat_minor": 2
}
