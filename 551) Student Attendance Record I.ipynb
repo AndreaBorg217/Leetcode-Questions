{
 "cells": [
  {
   "attachments": {},
   "cell_type": "markdown",
   "metadata": {},
   "source": [
    "## Problem\n",
    "\n",
    "You are given a string `s` representing an attendance record for a student where each character signifies whether the student was absent, late, or present on that day. The record only contains the following three characters:\n",
    "\n",
    "- `'A'`: Absent.\n",
    "- `'L'`: Late.\n",
    "- `'P'`: Present.\n",
    "\n",
    "The student is eligible for an attendance award if they meet **both** of the following criteria:\n",
    "\n",
    "- The student was absent (`'A'`) for **strictly** fewer than 2 days **total**.\n",
    "- The student was **never** late (`'L'`) for 3 or more **consecutive** days.\n",
    "\n",
    "Return `true` *if the student is eligible for an attendance award, or* `false` *otherwise*.\n",
    "\n",
    "**Example 1:**\n",
    "\n",
    "```\n",
    "Input: s = \"PPALLP\"\n",
    "Output: true\n",
    "Explanation: The student has fewer than 2 absences and was never late 3 or more consecutive days.\n",
    "\n",
    "```\n",
    "\n",
    "**Example 2:**\n",
    "\n",
    "```\n",
    "Input: s = \"PPALLL\"\n",
    "Output: false\n",
    "Explanation: The student was late 3 consecutive days in the last 3 days, so is not eligible for the award.\n",
    "```\n",
    "\n",
    "## Solution"
   ]
  },
  {
   "cell_type": "code",
   "execution_count": 36,
   "metadata": {},
   "outputs": [],
   "source": [
    "def checkRecord(s):\n",
    "    countA = 0\n",
    "    consecutiveL = 0\n",
    "\n",
    "    for char in s:\n",
    "        if char == \"A\": countA = countA + 1\n",
    "        if not char == \"L\": consecutiveL = 0\n",
    "        if char == \"L\": consecutiveL = consecutiveL + 1\n",
    "        if countA == 2 or consecutiveL == 3: return False\n",
    "    return True"
   ]
  },
  {
   "cell_type": "code",
   "execution_count": 37,
   "metadata": {},
   "outputs": [
    {
     "name": "stdout",
     "output_type": "stream",
     "text": [
      "True\n",
      "False\n"
     ]
    }
   ],
   "source": [
    "print(checkRecord(\"PPALLP\"))\n",
    "print(checkRecord(\"PPALLL\"))"
   ]
  }
 ],
 "metadata": {
  "kernelspec": {
   "display_name": "Python 3",
   "language": "python",
   "name": "python3"
  },
  "language_info": {
   "codemirror_mode": {
    "name": "ipython",
    "version": 3
   },
   "file_extension": ".py",
   "mimetype": "text/x-python",
   "name": "python",
   "nbconvert_exporter": "python",
   "pygments_lexer": "ipython3",
   "version": "3.10.5"
  },
  "orig_nbformat": 4,
  "vscode": {
   "interpreter": {
    "hash": "434f2bcca716b3712093bbeaf4b043651dd7dfcf409992b3771072bf00fd41a0"
   }
  }
 },
 "nbformat": 4,
 "nbformat_minor": 2
}
