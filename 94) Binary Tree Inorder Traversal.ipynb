{
 "cells": [
  {
   "attachments": {},
   "cell_type": "markdown",
   "metadata": {},
   "source": [
    "## Problem\n",
    "\n",
    "Given the `root` of a binary tree, return *the inorder traversal of its nodes' values*.\n",
    "\n",
    "**Example 1:**\n",
    "\n",
    "![https://assets.leetcode.com/uploads/2020/09/15/inorder_1.jpg](https://assets.leetcode.com/uploads/2020/09/15/inorder_1.jpg)\n",
    "\n",
    "```\n",
    "Input: root = [1,null,2,3]\n",
    "Output: [1,3,2]\n",
    "```\n",
    "\n",
    "**Example 2:**\n",
    "\n",
    "```\n",
    "Input: root = []\n",
    "Output: []\n",
    "```\n",
    "\n",
    "**Example 3:**\n",
    "\n",
    "```\n",
    "Input: root = [1]\n",
    "Output: [1]\n",
    "```\n",
    "\n",
    "## Solution\n",
    "\n",
    "```java\n",
    "public List<Integer> inorderTraversal(TreeNode root) {\n",
    "    List<Integer> list = new ArrayList<>();\n",
    "    in(root, list);\n",
    "    return list;\n",
    "}\n",
    "\n",
    "public void in(TreeNode root, List<Integer> list){\n",
    "\tif(root != null){\n",
    "\t\tin(root.left, list);\n",
    "\t\tlist.add(root.val);\n",
    "\t\tin(root.right, list);\n",
    "\t}\n",
    "}\n",
    "```"
   ]
  }
 ],
 "metadata": {
  "kernelspec": {
   "display_name": "Python 3",
   "language": "python",
   "name": "python3"
  },
  "language_info": {
   "name": "python",
   "version": "3.10.5"
  },
  "orig_nbformat": 4,
  "vscode": {
   "interpreter": {
    "hash": "434f2bcca716b3712093bbeaf4b043651dd7dfcf409992b3771072bf00fd41a0"
   }
  }
 },
 "nbformat": 4,
 "nbformat_minor": 2
}
