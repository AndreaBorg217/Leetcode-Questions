{
 "cells": [
  {
   "attachments": {},
   "cell_type": "markdown",
   "metadata": {},
   "source": [
    "## Problem\n",
    "\n",
    "Implement a last-in-first-out (LIFO) stack using only two queues. The implemented stack should support all the functions of a normal stack (`push`, `top`, `pop`, and `empty`).\n",
    "\n",
    "Implement the `MyStack` class:\n",
    "\n",
    "- `void push(int x)` Pushes element x to the top of the stack.\n",
    "- `int pop()` Removes the element on the top of the stack and returns it.\n",
    "- `int top()` Returns the element on the top of the stack.\n",
    "- `boolean empty()` Returns `true` if the stack is empty, `false` otherwise.\n",
    "\n",
    "**Notes:**\n",
    "\n",
    "- You must use **only** standard operations of a queue, which means that only `push to back`, `peek/pop from front`, `size` and `is empty` operations are valid.\n",
    "- Depending on your language, the queue may not be supported natively. You may simulate a queue using a list or deque (double-ended queue) as long as you use only a queue's standard operations.\n",
    "\n",
    "**Example 1:**\n",
    "\n",
    "```\n",
    "Input\n",
    "[\"MyStack\", \"push\", \"push\", \"top\", \"pop\", \"empty\"]\n",
    "[[], [1], [2], [], [], []]\n",
    "Output\n",
    "[null, null, null, 2, 2, false]\n",
    "\n",
    "Explanation\n",
    "MyStack myStack = new MyStack();\n",
    "myStack.push(1);\n",
    "myStack.push(2);\n",
    "myStack.top(); // return 2\n",
    "myStack.pop(); // return 2\n",
    "myStack.empty(); // return False\n",
    "```\n",
    "\n",
    "## Solution\n",
    "\n",
    "```java\n",
    "import java.util.ArrayList;\n",
    "\n",
    "class MyStack {\n",
    "    ArrayList queue;\n",
    "    public MyStack() {\n",
    "        this.queue = new ArrayList();\n",
    "    }\n",
    "    \n",
    "    public void push(int x) {\n",
    "        this.queue.add(x);\n",
    "    }\n",
    "    \n",
    "    public int pop() {\n",
    "        int last = this.queue.size() - 1;\n",
    "        var popped = this.queue.get(last);\n",
    "        this.queue.remove(last);\n",
    "        return (int)popped;\n",
    "    }\n",
    "    \n",
    "    public int top() {\n",
    "        int last = this.queue.size() - 1;\n",
    "        return (int)this.queue.get(last);\n",
    "    }\n",
    "    \n",
    "    public boolean empty() {\n",
    "        return this.queue.size() == 0;\n",
    "    }\n",
    "}\n",
    "```"
   ]
  }
 ],
 "metadata": {
  "kernelspec": {
   "display_name": "Python 3",
   "language": "python",
   "name": "python3"
  },
  "language_info": {
   "name": "python",
   "version": "3.10.5"
  },
  "orig_nbformat": 4,
  "vscode": {
   "interpreter": {
    "hash": "434f2bcca716b3712093bbeaf4b043651dd7dfcf409992b3771072bf00fd41a0"
   }
  }
 },
 "nbformat": 4,
 "nbformat_minor": 2
}
