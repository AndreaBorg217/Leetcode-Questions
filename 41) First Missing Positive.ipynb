{
 "cells": [
  {
   "attachments": {},
   "cell_type": "markdown",
   "metadata": {},
   "source": [
    "## Problem\n",
    "\n",
    "Given an unsorted integer array `nums`, return the smallest missing positive integer.\n",
    "\n",
    "You must implement an algorithm that runs in `O(n)` time and uses constant extra space.\n",
    "\n",
    "**Example 1:**\n",
    "\n",
    "```\n",
    "Input: nums = [1,2,0]\n",
    "Output: 3\n",
    "Explanation: The numbers in the range [1,2] are all in the array.\n",
    "\n",
    "```\n",
    "\n",
    "**Example 2:**\n",
    "\n",
    "```\n",
    "Input: nums = [3,4,-1,1]\n",
    "Output: 2\n",
    "Explanation: 1 is in the array but 2 is missing.\n",
    "```\n",
    "\n",
    "## Solution"
   ]
  },
  {
   "cell_type": "code",
   "execution_count": null,
   "metadata": {},
   "outputs": [],
   "source": [
    "def firstMissingPositive(nums):\n",
    "    nums = sorted(nums)\n",
    "        \n",
    "    if binarySearch(nums, 1) == -1: return 1\n",
    "        \n",
    "    for n in nums:\n",
    "        if n+1 < 1: continue\n",
    "        elif binarySearch(nums, n+1) == -1: return n+1\n",
    "\n",
    "    \n",
    "def binarySearch (arr, target):\n",
    "    return binarySearchRec(arr, target, 0, len(arr)-1)\n",
    "    \n",
    "def binarySearchRec(arr, target, start, end):\n",
    "    if start > end: return -1\n",
    "\n",
    "    mid = (start + end) // 2\n",
    "    if arr[mid] == target: return mid\n",
    "    if arr[mid] > target: return binarySearchRec(arr, target, start, mid-1)\n",
    "    if arr[mid] < target: return binarySearchRec(arr, target, mid+1, end)"
   ]
  },
  {
   "cell_type": "code",
   "execution_count": null,
   "metadata": {},
   "outputs": [],
   "source": [
    "print(firstMissingPositive([3,4,-1,1]))\n",
    "print(firstMissingPositive([1, 2, 0]))"
   ]
  }
 ],
 "metadata": {
  "kernelspec": {
   "display_name": "Python 3",
   "language": "python",
   "name": "python3"
  },
  "language_info": {
   "codemirror_mode": {
    "name": "ipython",
    "version": 3
   },
   "file_extension": ".py",
   "mimetype": "text/x-python",
   "name": "python",
   "nbconvert_exporter": "python",
   "pygments_lexer": "ipython3",
   "version": "3.10.0"
  },
  "orig_nbformat": 4,
  "vscode": {
   "interpreter": {
    "hash": "aee8b7b246df8f9039afb4144a1f6fd8d2ca17a180786b69acc140d282b71a49"
   }
  }
 },
 "nbformat": 4,
 "nbformat_minor": 2
}
