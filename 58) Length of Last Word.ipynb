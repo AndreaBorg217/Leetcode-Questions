{
 "cells": [
  {
   "attachments": {},
   "cell_type": "markdown",
   "metadata": {},
   "source": [
    "## Problem\n",
    "\n",
    "Given a string `s` consisting of words and spaces, return *the length of the **last** word in the string.*\n",
    "\n",
    "A **word** is a maximal\n",
    "\n",
    "substring\n",
    "\n",
    "consisting of non-space characters only.\n",
    "\n",
    "**Example 1:**\n",
    "\n",
    "```\n",
    "Input: s = \"Hello World\"\n",
    "Output: 5\n",
    "Explanation: The last word is \"World\" with length 5.\n",
    "\n",
    "```\n",
    "\n",
    "**Example 2:**\n",
    "\n",
    "```\n",
    "Input: s = \"   fly me   to   the moon  \"\n",
    "Output: 4\n",
    "Explanation: The last word is \"moon\" with length 4.\n",
    "\n",
    "```\n",
    "\n",
    "**Example 3:**\n",
    "\n",
    "```\n",
    "Input: s = \"luffy is still joyboy\"\n",
    "Output: 6\n",
    "Explanation: The last word is \"joyboy\" with length 6.\n",
    "```\n",
    "\n",
    "## Solution"
   ]
  },
  {
   "cell_type": "code",
   "execution_count": null,
   "metadata": {},
   "outputs": [],
   "source": [
    "def lengthOfLastWord(s):\n",
    "    words = s.split()\n",
    "    return len(words[len(words)-1])"
   ]
  },
  {
   "cell_type": "code",
   "execution_count": null,
   "metadata": {},
   "outputs": [],
   "source": [
    "print(lengthOfLastWord(\"Hello World\"))\n",
    "print(lengthOfLastWord(\"   fly me   to   the moon  \"))\n",
    "print(lengthOfLastWord(\"luffy is still joyboy\"))"
   ]
  }
 ],
 "metadata": {
  "kernelspec": {
   "display_name": "Python 3",
   "language": "python",
   "name": "python3"
  },
  "language_info": {
   "codemirror_mode": {
    "name": "ipython",
    "version": 3
   },
   "file_extension": ".py",
   "mimetype": "text/x-python",
   "name": "python",
   "nbconvert_exporter": "python",
   "pygments_lexer": "ipython3",
   "version": "3.10.5"
  },
  "orig_nbformat": 4,
  "vscode": {
   "interpreter": {
    "hash": "434f2bcca716b3712093bbeaf4b043651dd7dfcf409992b3771072bf00fd41a0"
   }
  }
 },
 "nbformat": 4,
 "nbformat_minor": 2
}
