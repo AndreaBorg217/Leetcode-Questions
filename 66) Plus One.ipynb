{
 "cells": [
  {
   "attachments": {},
   "cell_type": "markdown",
   "metadata": {},
   "source": [
    "## Problem\n",
    "\n",
    "You are given a **large integer** represented as an integer array `digits`, where each `digits[i]` is the `ith` digit of the integer. The digits are ordered from most significant to least significant in left-to-right order. The large integer does not contain any leading `0`'s.\n",
    "\n",
    "Increment the large integer by one and return *the resulting array of digits*.\n",
    "\n",
    "**Example 1:**\n",
    "\n",
    "```\n",
    "Input: digits = [1,2,3]\n",
    "Output: [1,2,4]\n",
    "Explanation: The array represents the integer 123.\n",
    "Incrementing by one gives 123 + 1 = 124.\n",
    "Thus, the result should be [1,2,4].\n",
    "\n",
    "```\n",
    "\n",
    "**Example 2:**\n",
    "\n",
    "```\n",
    "Input: digits = [4,3,2,1]\n",
    "Output: [4,3,2,2]\n",
    "Explanation: The array represents the integer 4321.\n",
    "Incrementing by one gives 4321 + 1 = 4322.\n",
    "Thus, the result should be [4,3,2,2].\n",
    "\n",
    "```\n",
    "\n",
    "**Example 3:**\n",
    "\n",
    "```\n",
    "Input: digits = [9]\n",
    "Output: [1,0]\n",
    "Explanation: The array represents the integer 9.\n",
    "Incrementing by one gives 9 + 1 = 10.\n",
    "Thus, the result should be [1,0].\n",
    "```\n",
    "\n",
    "## Solution"
   ]
  },
  {
   "cell_type": "code",
   "execution_count": 1,
   "metadata": {},
   "outputs": [],
   "source": [
    "def plusOne(digits):\n",
    "    last = len(digits)-1\n",
    "\t\t# if the list contains only 9 we return 1 followed by as many 0s \n",
    "\t\t# as there were 9s; 9 -> 10, 99 -> 100, 999 -> 1000\n",
    "    if digits.count(9) == len(digits): return [1] + [0]*len(digits)\n",
    "    \n",
    "\t\t# if the last digit is 0-8 we return the list with the last digit incremented\n",
    "    if digits[last] < 9: \n",
    "        digits[last] = digits[last] +1\n",
    "        return digits \n",
    "   \n",
    "    # if the last digit is 9 we convert all 9s at the end to 0 until we reach\n",
    "\t\t# a number 0-8 which we increment\n",
    "    for i in reversed(range(len(digits))):\n",
    "        if digits[i] == 9: \n",
    "            digits[i] = 0\n",
    "        else: \n",
    "            digits[i] = digits[i] + 1\n",
    "            break\n",
    "    return digits"
   ]
  },
  {
   "cell_type": "code",
   "execution_count": 2,
   "metadata": {},
   "outputs": [
    {
     "name": "stdout",
     "output_type": "stream",
     "text": [
      "[1, 2, 4]\n",
      "[4, 2, 3, 2]\n",
      "[1, 0]\n"
     ]
    }
   ],
   "source": [
    "print(plusOne([1, 2, 3]))\n",
    "print(plusOne([4, 2, 3, 1]))\n",
    "print(plusOne([9]))"
   ]
  }
 ],
 "metadata": {
  "kernelspec": {
   "display_name": "Python 3",
   "language": "python",
   "name": "python3"
  },
  "language_info": {
   "codemirror_mode": {
    "name": "ipython",
    "version": 3
   },
   "file_extension": ".py",
   "mimetype": "text/x-python",
   "name": "python",
   "nbconvert_exporter": "python",
   "pygments_lexer": "ipython3",
   "version": "3.10.5"
  },
  "orig_nbformat": 4,
  "vscode": {
   "interpreter": {
    "hash": "434f2bcca716b3712093bbeaf4b043651dd7dfcf409992b3771072bf00fd41a0"
   }
  }
 },
 "nbformat": 4,
 "nbformat_minor": 2
}
